{
  "cells": [
    {
      "cell_type": "code",
      "execution_count": 1,
      "metadata": {
        "colab": {
          "base_uri": "https://localhost:8080/"
        },
        "id": "xDoU1havTCwi",
        "outputId": "2974bf93-d56e-4ac8-f5e1-1c56c9ccde1c"
      },
      "outputs": [
        {
          "output_type": "stream",
          "name": "stdout",
          "text": [
            "Cloning into 'TraffiKING'...\n",
            "remote: Enumerating objects: 116, done.\u001b[K\n",
            "remote: Counting objects: 100% (21/21), done.\u001b[K\n",
            "remote: Compressing objects: 100% (13/13), done.\u001b[K\n",
            "remote: Total 116 (delta 8), reused 16 (delta 6), pack-reused 95 (from 1)\u001b[K\n",
            "Receiving objects: 100% (116/116), 113.28 MiB | 13.11 MiB/s, done.\n",
            "Resolving deltas: 100% (46/46), done.\n"
          ]
        }
      ],
      "source": [
        "!git clone https://github.com/nilrema/TraffiKING.git"
      ]
    },
    {
      "cell_type": "code",
      "execution_count": 2,
      "metadata": {
        "id": "PGiqklyoTCwl"
      },
      "outputs": [],
      "source": [
        "import os\n",
        "os.chdir('/content/TraffiKING')"
      ]
    },
    {
      "cell_type": "markdown",
      "metadata": {
        "id": "ThEJyH1yttng"
      },
      "source": [
        "## Dataset\n"
      ]
    },
    {
      "cell_type": "code",
      "execution_count": 3,
      "metadata": {
        "id": "0T8-J283WyD0"
      },
      "outputs": [],
      "source": [
        "import torch\n",
        "\n",
        "device = torch.device(\"cuda\" if torch.cuda.is_available() else \"cpu\")"
      ]
    },
    {
      "cell_type": "markdown",
      "metadata": {
        "id": "xp4d3v7BXDqm"
      },
      "source": [
        "### Downloadanje"
      ]
    },
    {
      "cell_type": "code",
      "execution_count": 4,
      "metadata": {
        "colab": {
          "base_uri": "https://localhost:8080/"
        },
        "id": "mnatXiEjUXf0",
        "outputId": "a1074f48-f688-4f92-b341-f6c7a7e4e6ec"
      },
      "outputs": [
        {
          "output_type": "stream",
          "name": "stdout",
          "text": [
            "Downloading from https://www.kaggle.com/api/v1/datasets/download/meowmeowmeowmeowmeow/gtsrb-german-traffic-sign?dataset_version_number=1...\n"
          ]
        },
        {
          "output_type": "stream",
          "name": "stderr",
          "text": [
            "100%|██████████| 612M/612M [00:03<00:00, 188MB/s]"
          ]
        },
        {
          "output_type": "stream",
          "name": "stdout",
          "text": [
            "Extracting files...\n"
          ]
        },
        {
          "output_type": "stream",
          "name": "stderr",
          "text": [
            "\n"
          ]
        },
        {
          "output_type": "stream",
          "name": "stdout",
          "text": [
            "Path to dataset files: /root/.cache/kagglehub/datasets/meowmeowmeowmeowmeow/gtsrb-german-traffic-sign/versions/1\n"
          ]
        }
      ],
      "source": [
        "import kagglehub\n",
        "\n",
        "# Download latest version\n",
        "path = kagglehub.dataset_download(\"meowmeowmeowmeowmeow/gtsrb-german-traffic-sign\")\n",
        "\n",
        "print(\"Path to dataset files:\", path)"
      ]
    },
    {
      "cell_type": "markdown",
      "metadata": {
        "id": "99_gptqPV0zk"
      },
      "source": [
        "### Kopiranje u Colab folder"
      ]
    },
    {
      "cell_type": "code",
      "execution_count": 5,
      "metadata": {
        "id": "s7K2cNNCVUBj"
      },
      "outputs": [],
      "source": [
        "!cp -r /root/.cache/kagglehub/datasets/meowmeowmeowmeowmeow/gtsrb-german-traffic-sign/versions/1 /content/gtsrb-german-traffic-sign"
      ]
    },
    {
      "cell_type": "markdown",
      "metadata": {
        "id": "2Z5g-Nz8ttnj"
      },
      "source": [
        "## Priprema podataka"
      ]
    },
    {
      "cell_type": "markdown",
      "metadata": {
        "id": "uKOU6Y3cttnj"
      },
      "source": [
        "### Učitavanje podataka"
      ]
    },
    {
      "cell_type": "code",
      "execution_count": 6,
      "metadata": {
        "colab": {
          "base_uri": "https://localhost:8080/"
        },
        "id": "gfY0GMrhttnj",
        "outputId": "f677f5d5-4b23-4199-a412-6ee88acbda07"
      },
      "outputs": [
        {
          "output_type": "stream",
          "name": "stdout",
          "text": [
            "Shape of train_images: (39209, 64, 64, 3)\n",
            "Shape of train_labels: (39209,)\n"
          ]
        }
      ],
      "source": [
        "import os\n",
        "import cv2\n",
        "import numpy as np\n",
        "\n",
        "train_folder = \"/content/gtsrb-german-traffic-sign/Train\"\n",
        "categories = 43\n",
        "image_size = (64, 64)\n",
        "\n",
        "train_images = []\n",
        "train_labels = []\n",
        "\n",
        "for label in range(categories):\n",
        "    category_path = os.path.join(train_folder, str(label)) # folder path\n",
        "    image_files = os.listdir(category_path)\n",
        "\n",
        "    for image_file in image_files:\n",
        "        image_path = os.path.join(category_path, image_file)\n",
        "        image = cv2.imread(image_path)\n",
        "\n",
        "        if image is not None:\n",
        "            image = cv2.resize(image, image_size)\n",
        "            image = cv2.cvtColor(image, cv2.COLOR_BGR2RGB)\n",
        "\n",
        "            train_images.append(image)\n",
        "            train_labels.append(label)\n",
        "\n",
        "train_images = np.array(train_images)\n",
        "train_labels = np.array(train_labels)\n",
        "\n",
        "print(\"Shape of train_images:\", train_images.shape)  # (num_images, 32, 32, 3)\n",
        "print(\"Shape of train_labels:\", train_labels.shape)  # (num_images,)\n",
        "# broj primjera, dimenzija x dimenzija, broj kanala (RGB pa je 3)"
      ]
    },
    {
      "cell_type": "code",
      "execution_count": 7,
      "metadata": {
        "colab": {
          "base_uri": "https://localhost:8080/"
        },
        "id": "7U6l_dtnttnk",
        "outputId": "23d4e997-1837-4678-cc21-3a7a0dd718f9"
      },
      "outputs": [
        {
          "output_type": "stream",
          "name": "stdout",
          "text": [
            "Train labels head:  [0 0 0 0 0]\n"
          ]
        }
      ],
      "source": [
        "print(\"Train labels head: \", train_labels[:5])  # [0 0 0 0 0]"
      ]
    },
    {
      "cell_type": "markdown",
      "metadata": {
        "id": "au1mhM3Pttnk"
      },
      "source": [
        "### Visualizacija dijela podataka"
      ]
    },
    {
      "cell_type": "code",
      "execution_count": 8,
      "metadata": {
        "colab": {
          "base_uri": "https://localhost:8080/",
          "height": 829
        },
        "id": "C2M8k65uttnk",
        "outputId": "56e77384-3cf4-4d52-a297-e8e87602f6f0"
      },
      "outputs": [
        {
          "output_type": "display_data",
          "data": {
            "text/plain": [
              "<Figure size 1000x1000 with 9 Axes>"
            ],
            "image/png": "[encoded data removed]"
          },
          "metadata": {}
        }
      ],
      "source": [
        "# visualize 9 images in 3x3 grid\n",
        "import matplotlib.pyplot as plt\n",
        "\n",
        "plt.figure(figsize=(10, 10))\n",
        "\n",
        "indices = np.random.choice(len(train_images), 9)\n",
        "for i, idx in enumerate(indices):\n",
        "    plt.subplot(3, 3, i + 1)\n",
        "    plt.imshow(train_images[idx])\n",
        "    plt.title(train_labels[idx])\n",
        "    plt.axis('off')\n",
        "\n",
        "plt.show()"
      ]
    },
    {
      "cell_type": "markdown",
      "metadata": {
        "id": "rQvSOhBittnl"
      },
      "source": [
        "### Podjela na skup za treniranje i testiranje"
      ]
    },
    {
      "cell_type": "code",
      "execution_count": 9,
      "metadata": {
        "colab": {
          "base_uri": "https://localhost:8080/"
        },
        "id": "MQ8lnvDottnl",
        "outputId": "2ca099b5-c416-4f68-c7ce-3606a4e809aa"
      },
      "outputs": [
        {
          "output_type": "stream",
          "name": "stdout",
          "text": [
            "X_train shape: (31367, 64, 64, 3)\n",
            "X_val shape: (7842, 64, 64, 3)\n",
            "y_train shape: (31367,)\n",
            "y_val shape: (7842,)\n"
          ]
        }
      ],
      "source": [
        "from sklearn.model_selection import train_test_split\n",
        "\n",
        "X_train, X_val, y_train, y_val = train_test_split(train_images, train_labels, test_size=0.2, random_state=42)\n",
        "\n",
        "print(\"X_train shape:\", X_train.shape)\n",
        "print(\"X_val shape:\", X_val.shape)\n",
        "print(\"y_train shape:\", y_train.shape)\n",
        "print(\"y_val shape:\", y_val.shape)"
      ]
    },
    {
      "cell_type": "markdown",
      "metadata": {
        "id": "r-O5B_E2ttnl"
      },
      "source": [
        "## Treniranje modela"
      ]
    },
    {
      "cell_type": "code",
      "execution_count": 10,
      "metadata": {
        "id": "LRaRHLgLttnl"
      },
      "outputs": [],
      "source": [
        "import torch\n",
        "from torch.utils.data import Dataset, DataLoader\n",
        "import torchvision.transforms as transforms\n",
        "import numpy as np\n",
        "\n",
        "class TrafficSignDataset(Dataset):\n",
        "    def __init__(self, images, labels, transform=None):\n",
        "        self.images = images # input, odnosno X\n",
        "        self.labels = labels # output, odnosno y\n",
        "        self.transform = transform # transformacija podataka\n",
        "\n",
        "    def __len__(self):\n",
        "        return len(self.images)\n",
        "\n",
        "    def __getitem__(self, idx): # vrati odredeni X (transformirani) i y\n",
        "        image = self.images[idx]\n",
        "        label = self.labels[idx]\n",
        "\n",
        "        if self.transform:\n",
        "            image = self.transform(image)\n",
        "\n",
        "        return image, label\n",
        "\n",
        "\n",
        "transform = transforms.Compose([\n",
        "    transforms.ToPILImage(),\n",
        "    transforms.Resize((64, 64)), # zelimo 64x64\n",
        "    transforms.ToTensor(), # pretvori u tensor\n",
        "    transforms.Normalize(mean=[0.485, 0.456, 0.406], std=[0.229, 0.224, 0.225]) # normalizacija svih piksela\n",
        "])\n",
        "\n",
        "train_dataset = TrafficSignDataset(X_train, y_train, transform=transform)\n",
        "val_dataset = TrafficSignDataset(X_val, y_val, transform=transform)\n",
        "\n",
        "batch_size = 64\n",
        "train_loader = DataLoader(train_dataset, batch_size=batch_size, shuffle=True)\n",
        "val_loader = DataLoader(val_dataset, batch_size=batch_size, shuffle=False)"
      ]
    },
    {
      "cell_type": "markdown",
      "metadata": {
        "id": "1H2QhrNlYoz4"
      },
      "source": [
        "### Definiranje arhitekture modela"
      ]
    },
    {
      "cell_type": "code",
      "execution_count": 11,
      "metadata": {
        "id": "rxQulrqbtyvk"
      },
      "outputs": [],
      "source": [
        "import torch.nn as nn\n",
        "import torch\n",
        "\n",
        "class TraffiKING(nn.Module):\n",
        "    def __init__(self, num_classes=43):\n",
        "        super(TraffiKING, self).__init__()\n",
        "\n",
        "        self.layers = nn.Sequential(\n",
        "            nn.BatchNorm2d(3),\n",
        "            nn.ReLU(),\n",
        "            nn.Conv2d(3, 32, kernel_size=3, stride=1, padding=1),\n",
        "            nn.BatchNorm2d(32),\n",
        "            nn.ReLU(),\n",
        "            nn.Conv2d(32, 64, kernel_size=3, stride=1, padding=1),\n",
        "            nn.MaxPool2d(kernel_size=2, stride=2),\n",
        "            nn.Flatten(),\n",
        "            nn.Linear(64 * 32 * 32, num_classes)\n",
        "        )\n",
        "\n",
        "    def forward(self, x):\n",
        "        return self.layers(x)"
      ]
    },
    {
      "cell_type": "markdown",
      "metadata": {
        "id": "AaXfrxhJYvDx"
      },
      "source": [
        "### Training loop, postupak treniranja"
      ]
    },
    {
      "cell_type": "code",
      "execution_count": 12,
      "metadata": {
        "id": "7NuLsB0dt7jR"
      },
      "outputs": [],
      "source": [
        "from logger import Logger\n",
        "from datetime import datetime\n",
        "import sys\n",
        "\n",
        "def train_model(model, train_loader, val_loader, criterion, optimizer, scheduler, save_dir, epochs=20):\n",
        "    device = torch.device('cuda' if torch.cuda.is_available() else 'cpu')\n",
        "    model.to(device)  # prebacit model na cuda\n",
        "    best_epoch = 0\n",
        "    best_epoch_accuracy = 0\n",
        "\n",
        "    current_time = datetime.now().strftime('%Y_%m_%d_%H_%M')\n",
        "    log_dir = f'weights/{save_dir}/{current_time}'\n",
        "\n",
        "    os.makedirs(log_dir, exist_ok=True)\n",
        "    f = open(f'{log_dir}/log.txt', 'a')\n",
        "\n",
        "    original_stdout = sys.stdout\n",
        "    sys.stdout = Logger(sys.stdout, f)\n",
        "\n",
        "    for epoch in range(epochs):\n",
        "        model.train()  # model na trening mode\n",
        "        running_loss = 0.0\n",
        "        correct = 0\n",
        "        total = 0\n",
        "\n",
        "        for images, labels in train_loader:\n",
        "            images, labels = images.to(device), labels.to(device) # prebacit i podatke na cuda\n",
        "\n",
        "            optimizer.zero_grad() # resetirat gradijente\n",
        "\n",
        "            # forward pass\n",
        "            outputs = model(images)\n",
        "            loss = criterion(outputs, labels)\n",
        "\n",
        "            # backprop, optimizer\n",
        "            loss.backward()\n",
        "            optimizer.step()\n",
        "\n",
        "            # gubitak\n",
        "            running_loss += loss.item()\n",
        "            _, predicted = torch.max(outputs, 1)\n",
        "            total += labels.size(0)\n",
        "            correct += (predicted == labels).sum().item()\n",
        "\n",
        "        scheduler.step()\n",
        "        epoch_loss = running_loss / len(train_loader)\n",
        "        epoch_acc = 100 * correct / total\n",
        "        # print epoha, gubitka, tocnosti\n",
        "        print(f'Epoch [{epoch+1}/{epochs}], Loss: {epoch_loss:.4f}, Accuracy: {epoch_acc:.2f}%, LR: {scheduler.get_last_lr()[0]:.6f}')\n",
        "\n",
        "        model.eval()  # model na validation mode\n",
        "        val_correct = 0\n",
        "        val_total = 0\n",
        "\n",
        "        with torch.no_grad():\n",
        "            for images, labels in val_loader:\n",
        "                images, labels = images.to(device), labels.to(device)\n",
        "                outputs = model(images)\n",
        "                _, predicted = torch.max(outputs, 1)\n",
        "                val_total += labels.size(0)\n",
        "                val_correct += (predicted == labels).sum().item()\n",
        "\n",
        "        val_acc = 100 * val_correct / val_total\n",
        "        print(f'Validation Accuracy: {val_acc:.2f}%')\n",
        "\n",
        "        if val_acc > best_epoch_accuracy:\n",
        "            best_epoch = epoch\n",
        "            best_epoch_accuracy = val_acc\n",
        "            torch.save(model.state_dict(), f'weights/{save_dir}/{current_time}/best_model.pt')\n",
        "        print(f'BEST EPOCH: {best_epoch}, ACCURACY: {best_epoch_accuracy:.2f}%')\n",
        "\n",
        "\n",
        "    torch.save(model.state_dict(), f'weights/{save_dir}/{current_time}/model.pt')\n",
        "    sys.stdout = original_stdout\n",
        "    f.close()"
      ]
    },
    {
      "cell_type": "code",
      "execution_count": 13,
      "metadata": {
        "id": "M3anW2bTt9pM"
      },
      "outputs": [],
      "source": [
        "def evaluate_model(model, test_loader):\n",
        "    model.eval()\n",
        "    correct = 0\n",
        "    total = 0\n",
        "    with torch.no_grad():\n",
        "        for images, labels in test_loader:\n",
        "            images, labels = images.to(device), labels.to(device)\n",
        "            outputs = model(images)\n",
        "            _, predicted = torch.max(outputs, 1)\n",
        "            total += labels.size(0)\n",
        "            correct += (predicted == labels).sum().item()\n",
        "\n",
        "    accuracy = 100 * correct / total\n",
        "    print(f'Test Accuracy: {accuracy:.2f}%')\n"
      ]
    },
    {
      "cell_type": "markdown",
      "metadata": {
        "id": "5MSocRiVTCwu"
      },
      "source": [
        "## Treniranje i evaulacija modela"
      ]
    },
    {
      "cell_type": "code",
      "execution_count": 14,
      "metadata": {
        "id": "Ag6OdAmdTCwu"
      },
      "outputs": [],
      "source": [
        "import torch.optim as optim\n",
        "from torch.optim import lr_scheduler\n",
        "\n",
        "pretrained = True\n",
        "mode = 'pretrained' if pretrained else 'random_init'"
      ]
    },
    {
      "cell_type": "markdown",
      "metadata": {
        "id": "7t_vHZNJTCwv"
      },
      "source": [
        "### TraffiKING"
      ]
    },
    {
      "cell_type": "code",
      "execution_count": 15,
      "metadata": {
        "colab": {
          "base_uri": "https://localhost:8080/"
        },
        "id": "GFNKOwrKTCwv",
        "outputId": "5f6cb13f-0d71-4492-c4b8-e855da2439bd"
      },
      "outputs": [
        {
          "output_type": "stream",
          "name": "stdout",
          "text": [
            "Collecting onnx\n",
            "  Downloading onnx-1.17.0-cp310-cp310-manylinux_2_17_x86_64.manylinux2014_x86_64.whl.metadata (16 kB)\n",
            "Requirement already satisfied: numpy>=1.20 in /usr/local/lib/python3.10/dist-packages (from onnx) (1.26.4)\n",
            "Requirement already satisfied: protobuf>=3.20.2 in /usr/local/lib/python3.10/dist-packages (from onnx) (4.25.5)\n",
            "Downloading onnx-1.17.0-cp310-cp310-manylinux_2_17_x86_64.manylinux2014_x86_64.whl (16.0 MB)\n",
            "\u001b[2K   \u001b[90m━━━━━━━━━━━━━━━━━━━━━━━━━━━━━━━━━━━━━━━━\u001b[0m \u001b[32m16.0/16.0 MB\u001b[0m \u001b[31m85.7 MB/s\u001b[0m eta \u001b[36m0:00:00\u001b[0m\n",
            "\u001b[?25hInstalling collected packages: onnx\n",
            "Successfully installed onnx-1.17.0\n"
          ]
        }
      ],
      "source": [
        "%pip install onnx\n",
        "\n",
        "import torch.onnx\n",
        "model = TraffiKING(num_classes=43)\n",
        "\n",
        "# Export model to ONNX format\n",
        "dummy_input = torch.randn(1, 3, 64, 64)\n",
        "torch.onnx.export(model, dummy_input, \"model.onnx\")"
      ]
    },
    {
      "cell_type": "code",
      "execution_count": 16,
      "metadata": {
        "colab": {
          "base_uri": "https://localhost:8080/"
        },
        "id": "Tg1oSpZ_TCwv",
        "outputId": "54dee620-ecde-4a49-bc9b-e77ae52d08eb"
      },
      "outputs": [
        {
          "output_type": "stream",
          "name": "stdout",
          "text": [
            "Epoch [1/20], Loss: 1.4343, Accuracy: 66.40%, LR: 0.001000\n",
            "Validation Accuracy: 83.83%\n",
            "BEST EPOCH: 0, ACCURACY: 83.83%\n",
            "Epoch [2/20], Loss: 0.3001, Accuracy: 92.05%, LR: 0.001000\n",
            "Validation Accuracy: 91.57%\n",
            "BEST EPOCH: 1, ACCURACY: 91.57%\n",
            "Epoch [3/20], Loss: 0.2390, Accuracy: 94.53%, LR: 0.001000\n",
            "Validation Accuracy: 93.24%\n",
            "BEST EPOCH: 2, ACCURACY: 93.24%\n",
            "Epoch [4/20], Loss: 0.1653, Accuracy: 96.24%, LR: 0.000100\n",
            "Validation Accuracy: 93.69%\n",
            "BEST EPOCH: 3, ACCURACY: 93.69%\n",
            "Epoch [5/20], Loss: 0.0404, Accuracy: 98.92%, LR: 0.000100\n",
            "Validation Accuracy: 96.77%\n",
            "BEST EPOCH: 4, ACCURACY: 96.77%\n",
            "Epoch [6/20], Loss: 0.0143, Accuracy: 99.58%, LR: 0.000100\n",
            "Validation Accuracy: 96.98%\n",
            "BEST EPOCH: 5, ACCURACY: 96.98%\n",
            "Epoch [7/20], Loss: 0.0096, Accuracy: 99.78%, LR: 0.000100\n",
            "Validation Accuracy: 97.14%\n",
            "BEST EPOCH: 6, ACCURACY: 97.14%\n",
            "Epoch [8/20], Loss: 0.0081, Accuracy: 99.80%, LR: 0.000010\n",
            "Validation Accuracy: 97.17%\n",
            "BEST EPOCH: 7, ACCURACY: 97.17%\n",
            "Epoch [9/20], Loss: 0.0063, Accuracy: 99.87%, LR: 0.000010\n",
            "Validation Accuracy: 97.16%\n",
            "BEST EPOCH: 7, ACCURACY: 97.17%\n",
            "Epoch [10/20], Loss: 0.0056, Accuracy: 99.91%, LR: 0.000010\n",
            "Validation Accuracy: 97.22%\n",
            "BEST EPOCH: 9, ACCURACY: 97.22%\n",
            "Epoch [11/20], Loss: 0.0058, Accuracy: 99.91%, LR: 0.000010\n",
            "Validation Accuracy: 97.26%\n",
            "BEST EPOCH: 10, ACCURACY: 97.26%\n",
            "Epoch [12/20], Loss: 0.0054, Accuracy: 99.91%, LR: 0.000001\n",
            "Validation Accuracy: 97.21%\n",
            "BEST EPOCH: 10, ACCURACY: 97.26%\n",
            "Epoch [13/20], Loss: 0.0053, Accuracy: 99.91%, LR: 0.000001\n",
            "Validation Accuracy: 97.27%\n",
            "BEST EPOCH: 12, ACCURACY: 97.27%\n",
            "Epoch [14/20], Loss: 0.0053, Accuracy: 99.91%, LR: 0.000001\n",
            "Validation Accuracy: 97.25%\n",
            "BEST EPOCH: 12, ACCURACY: 97.27%\n",
            "Epoch [15/20], Loss: 0.0051, Accuracy: 99.92%, LR: 0.000001\n",
            "Validation Accuracy: 97.23%\n",
            "BEST EPOCH: 12, ACCURACY: 97.27%\n",
            "Epoch [16/20], Loss: 0.0049, Accuracy: 99.92%, LR: 0.000000\n",
            "Validation Accuracy: 97.26%\n",
            "BEST EPOCH: 12, ACCURACY: 97.27%\n",
            "Epoch [17/20], Loss: 0.0051, Accuracy: 99.93%, LR: 0.000000\n",
            "Validation Accuracy: 97.25%\n",
            "BEST EPOCH: 12, ACCURACY: 97.27%\n",
            "Epoch [18/20], Loss: 0.0050, Accuracy: 99.93%, LR: 0.000000\n",
            "Validation Accuracy: 97.28%\n",
            "BEST EPOCH: 17, ACCURACY: 97.28%\n",
            "Epoch [19/20], Loss: 0.0050, Accuracy: 99.92%, LR: 0.000000\n",
            "Validation Accuracy: 97.26%\n",
            "BEST EPOCH: 17, ACCURACY: 97.28%\n",
            "Epoch [20/20], Loss: 0.0049, Accuracy: 99.93%, LR: 0.000000\n",
            "Validation Accuracy: 97.21%\n",
            "BEST EPOCH: 17, ACCURACY: 97.28%\n"
          ]
        }
      ],
      "source": [
        "model = TraffiKING(num_classes=43)\n",
        "criterion = nn.CrossEntropyLoss() # unakrsna entropija (strojno hehe)\n",
        "optimizer = optim.Adam(model.parameters(), lr=0.001) # roko leni\n",
        "scheduler = lr_scheduler.StepLR(optimizer, step_size=4, gamma=0.1) # smanjivanje lr-a svake 4 epohe\n",
        "\n",
        "train_model(model, train_loader, val_loader, criterion, optimizer, scheduler, epochs=20, save_dir='TraffiKING')"
      ]
    },
    {
      "cell_type": "markdown",
      "metadata": {
        "id": "eT0PrBjXTCwv"
      },
      "source": [
        "### ResNet-18"
      ]
    },
    {
      "cell_type": "code",
      "execution_count": 17,
      "metadata": {
        "colab": {
          "base_uri": "https://localhost:8080/"
        },
        "id": "3I-3WUsrTCwv",
        "outputId": "5a7cd803-6a76-40f7-b292-4b5572494d16"
      },
      "outputs": [
        {
          "output_type": "stream",
          "name": "stderr",
          "text": [
            "Downloading: \"https://download.pytorch.org/models/resnet18-f37072fd.pth\" to /root/.cache/torch/hub/checkpoints/resnet18-f37072fd.pth\n",
            "100%|██████████| 44.7M/44.7M [00:00<00:00, 158MB/s]\n"
          ]
        },
        {
          "output_type": "stream",
          "name": "stdout",
          "text": [
            "Epoch [1/20], Loss: 0.4007, Accuracy: 89.77%, LR: 0.001000\n",
            "Validation Accuracy: 98.50%\n",
            "BEST EPOCH: 0, ACCURACY: 98.50%\n",
            "Epoch [2/20], Loss: 0.0699, Accuracy: 98.21%, LR: 0.001000\n",
            "Validation Accuracy: 95.59%\n",
            "BEST EPOCH: 0, ACCURACY: 98.50%\n",
            "Epoch [3/20], Loss: 0.0482, Accuracy: 98.73%, LR: 0.001000\n",
            "Validation Accuracy: 99.45%\n",
            "BEST EPOCH: 2, ACCURACY: 99.45%\n",
            "Epoch [4/20], Loss: 0.0284, Accuracy: 99.24%, LR: 0.000100\n",
            "Validation Accuracy: 99.27%\n",
            "BEST EPOCH: 2, ACCURACY: 99.45%\n",
            "Epoch [5/20], Loss: 0.0092, Accuracy: 99.83%, LR: 0.000100\n",
            "Validation Accuracy: 99.83%\n",
            "BEST EPOCH: 4, ACCURACY: 99.83%\n",
            "Epoch [6/20], Loss: 0.0018, Accuracy: 99.97%, LR: 0.000100\n",
            "Validation Accuracy: 99.89%\n",
            "BEST EPOCH: 5, ACCURACY: 99.89%\n",
            "Epoch [7/20], Loss: 0.0007, Accuracy: 100.00%, LR: 0.000100\n",
            "Validation Accuracy: 99.90%\n",
            "BEST EPOCH: 6, ACCURACY: 99.90%\n",
            "Epoch [8/20], Loss: 0.0007, Accuracy: 99.98%, LR: 0.000010\n",
            "Validation Accuracy: 99.89%\n",
            "BEST EPOCH: 6, ACCURACY: 99.90%\n",
            "Epoch [9/20], Loss: 0.0003, Accuracy: 99.99%, LR: 0.000010\n",
            "Validation Accuracy: 99.86%\n",
            "BEST EPOCH: 6, ACCURACY: 99.90%\n",
            "Epoch [10/20], Loss: 0.0003, Accuracy: 100.00%, LR: 0.000010\n",
            "Validation Accuracy: 99.87%\n",
            "BEST EPOCH: 6, ACCURACY: 99.90%\n",
            "Epoch [11/20], Loss: 0.0002, Accuracy: 100.00%, LR: 0.000010\n",
            "Validation Accuracy: 99.87%\n",
            "BEST EPOCH: 6, ACCURACY: 99.90%\n",
            "Epoch [12/20], Loss: 0.0002, Accuracy: 100.00%, LR: 0.000001\n",
            "Validation Accuracy: 99.86%\n",
            "BEST EPOCH: 6, ACCURACY: 99.90%\n",
            "Epoch [13/20], Loss: 0.0002, Accuracy: 100.00%, LR: 0.000001\n",
            "Validation Accuracy: 99.87%\n",
            "BEST EPOCH: 6, ACCURACY: 99.90%\n",
            "Epoch [14/20], Loss: 0.0003, Accuracy: 100.00%, LR: 0.000001\n",
            "Validation Accuracy: 99.87%\n",
            "BEST EPOCH: 6, ACCURACY: 99.90%\n",
            "Epoch [15/20], Loss: 0.0002, Accuracy: 100.00%, LR: 0.000001\n",
            "Validation Accuracy: 99.87%\n",
            "BEST EPOCH: 6, ACCURACY: 99.90%\n",
            "Epoch [16/20], Loss: 0.0001, Accuracy: 100.00%, LR: 0.000000\n",
            "Validation Accuracy: 99.87%\n",
            "BEST EPOCH: 6, ACCURACY: 99.90%\n",
            "Epoch [17/20], Loss: 0.0002, Accuracy: 100.00%, LR: 0.000000\n",
            "Validation Accuracy: 99.86%\n",
            "BEST EPOCH: 6, ACCURACY: 99.90%\n",
            "Epoch [18/20], Loss: 0.0035, Accuracy: 99.99%, LR: 0.000000\n",
            "Validation Accuracy: 99.87%\n",
            "BEST EPOCH: 6, ACCURACY: 99.90%\n",
            "Epoch [19/20], Loss: 0.0002, Accuracy: 100.00%, LR: 0.000000\n",
            "Validation Accuracy: 99.87%\n",
            "BEST EPOCH: 6, ACCURACY: 99.90%\n",
            "Epoch [20/20], Loss: 0.0003, Accuracy: 99.99%, LR: 0.000000\n",
            "Validation Accuracy: 99.89%\n",
            "BEST EPOCH: 6, ACCURACY: 99.90%\n"
          ]
        }
      ],
      "source": [
        "from torchvision.models import resnet18, ResNet18_Weights\n",
        "\n",
        "if pretrained: # ImageNet pretrained\n",
        "    model = resnet18(weights=ResNet18_Weights.IMAGENET1K_V1)\n",
        "else:  # Random weights\n",
        "    model = resnet18(weights=None)\n",
        "\n",
        "criterion = nn.CrossEntropyLoss()\n",
        "optimizer = optim.Adam(model.parameters(), lr=0.001)\n",
        "scheduler = lr_scheduler.StepLR(optimizer, step_size=4, gamma=0.1)\n",
        "\n",
        "train_model(model, train_loader, val_loader, criterion, optimizer, scheduler, epochs=20, save_dir=f'ResNet18/{mode}')"
      ]
    },
    {
      "cell_type": "markdown",
      "metadata": {
        "id": "-undL01TTCww"
      },
      "source": [
        "### EfficientNet"
      ]
    },
    {
      "cell_type": "code",
      "execution_count": 19,
      "metadata": {
        "colab": {
          "base_uri": "https://localhost:8080/"
        },
        "id": "hiIfrN8jTCww",
        "outputId": "2a1790fc-3f38-402d-e92f-908634f25e71"
      },
      "outputs": [
        {
          "output_type": "stream",
          "name": "stderr",
          "text": [
            "Downloading: \"https://download.pytorch.org/models/efficientnet_b0_rwightman-7f5810bc.pth\" to /root/.cache/torch/hub/checkpoints/efficientnet_b0_rwightman-7f5810bc.pth\n",
            "100%|██████████| 20.5M/20.5M [00:00<00:00, 69.5MB/s]\n"
          ]
        },
        {
          "output_type": "stream",
          "name": "stdout",
          "text": [
            "Epoch [1/20], Loss: 0.6993, Accuracy: 83.96%, LR: 0.001000\n",
            "Validation Accuracy: 98.56%\n",
            "BEST EPOCH: 0, ACCURACY: 98.56%\n",
            "Epoch [2/20], Loss: 0.0776, Accuracy: 97.79%, LR: 0.001000\n",
            "Validation Accuracy: 98.98%\n",
            "BEST EPOCH: 1, ACCURACY: 98.98%\n",
            "Epoch [3/20], Loss: 0.0523, Accuracy: 98.68%, LR: 0.001000\n",
            "Validation Accuracy: 99.38%\n",
            "BEST EPOCH: 2, ACCURACY: 99.38%\n",
            "Epoch [4/20], Loss: 0.0558, Accuracy: 98.40%, LR: 0.000100\n",
            "Validation Accuracy: 99.53%\n",
            "BEST EPOCH: 3, ACCURACY: 99.53%\n",
            "Epoch [5/20], Loss: 0.0103, Accuracy: 99.71%, LR: 0.000100\n",
            "Validation Accuracy: 99.90%\n",
            "BEST EPOCH: 4, ACCURACY: 99.90%\n",
            "Epoch [6/20], Loss: 0.0049, Accuracy: 99.86%, LR: 0.000100\n",
            "Validation Accuracy: 99.94%\n",
            "BEST EPOCH: 5, ACCURACY: 99.94%\n",
            "Epoch [7/20], Loss: 0.0039, Accuracy: 99.90%, LR: 0.000100\n",
            "Validation Accuracy: 99.92%\n",
            "BEST EPOCH: 5, ACCURACY: 99.94%\n",
            "Epoch [8/20], Loss: 0.0070, Accuracy: 99.92%, LR: 0.000010\n",
            "Validation Accuracy: 99.94%\n",
            "BEST EPOCH: 5, ACCURACY: 99.94%\n",
            "Epoch [9/20], Loss: 0.0022, Accuracy: 99.94%, LR: 0.000010\n",
            "Validation Accuracy: 99.87%\n",
            "BEST EPOCH: 5, ACCURACY: 99.94%\n",
            "Epoch [10/20], Loss: 0.0021, Accuracy: 99.93%, LR: 0.000010\n",
            "Validation Accuracy: 99.91%\n",
            "BEST EPOCH: 5, ACCURACY: 99.94%\n",
            "Epoch [11/20], Loss: 0.0027, Accuracy: 99.96%, LR: 0.000010\n",
            "Validation Accuracy: 99.92%\n",
            "BEST EPOCH: 5, ACCURACY: 99.94%\n",
            "Epoch [12/20], Loss: 0.0035, Accuracy: 99.96%, LR: 0.000001\n",
            "Validation Accuracy: 99.92%\n",
            "BEST EPOCH: 5, ACCURACY: 99.94%\n",
            "Epoch [13/20], Loss: 0.0015, Accuracy: 99.96%, LR: 0.000001\n",
            "Validation Accuracy: 99.95%\n",
            "BEST EPOCH: 12, ACCURACY: 99.95%\n",
            "Epoch [14/20], Loss: 0.0018, Accuracy: 99.96%, LR: 0.000001\n",
            "Validation Accuracy: 99.95%\n",
            "BEST EPOCH: 12, ACCURACY: 99.95%\n",
            "Epoch [15/20], Loss: 0.0049, Accuracy: 99.96%, LR: 0.000001\n",
            "Validation Accuracy: 99.94%\n",
            "BEST EPOCH: 12, ACCURACY: 99.95%\n",
            "Epoch [16/20], Loss: 0.0014, Accuracy: 99.97%, LR: 0.000000\n",
            "Validation Accuracy: 99.96%\n",
            "BEST EPOCH: 15, ACCURACY: 99.96%\n",
            "Epoch [17/20], Loss: 0.0035, Accuracy: 99.94%, LR: 0.000000\n",
            "Validation Accuracy: 99.96%\n",
            "BEST EPOCH: 15, ACCURACY: 99.96%\n",
            "Epoch [18/20], Loss: 0.0014, Accuracy: 99.96%, LR: 0.000000\n",
            "Validation Accuracy: 99.95%\n",
            "BEST EPOCH: 15, ACCURACY: 99.96%\n",
            "Epoch [19/20], Loss: 0.0015, Accuracy: 99.96%, LR: 0.000000\n",
            "Validation Accuracy: 99.94%\n",
            "BEST EPOCH: 15, ACCURACY: 99.96%\n",
            "Epoch [20/20], Loss: 0.0016, Accuracy: 99.96%, LR: 0.000000\n",
            "Validation Accuracy: 99.94%\n",
            "BEST EPOCH: 15, ACCURACY: 99.96%\n"
          ]
        }
      ],
      "source": [
        "from torchvision.models import efficientnet_b0, EfficientNet_B0_Weights\n",
        "\n",
        "if pretrained:  # ImageNet pretrained\n",
        "    model = efficientnet_b0(weights=EfficientNet_B0_Weights.IMAGENET1K_V1)\n",
        "else:  # Random weights\n",
        "    model = efficientnet_b0(weights=None)\n",
        "\n",
        "criterion = nn.CrossEntropyLoss()\n",
        "optimizer = optim.Adam(model.parameters(), lr=0.001)\n",
        "scheduler = lr_scheduler.StepLR(optimizer, step_size=4, gamma=0.1)\n",
        "\n",
        "train_model(model, train_loader, val_loader, criterion, optimizer, scheduler, epochs=20, save_dir=f'EfficientNetB0/{mode}')"
      ]
    },
    {
      "cell_type": "markdown",
      "metadata": {
        "id": "-X9sunb3TCww"
      },
      "source": [
        "### MobileNetV2"
      ]
    },
    {
      "cell_type": "code",
      "execution_count": 21,
      "metadata": {
        "colab": {
          "base_uri": "https://localhost:8080/"
        },
        "id": "tU5odUWnTCww",
        "outputId": "a4b5cde1-7b5f-4e4d-9859-6aeef3c0d8f8"
      },
      "outputs": [
        {
          "output_type": "stream",
          "name": "stderr",
          "text": [
            "Downloading: \"https://download.pytorch.org/models/mobilenet_v2-b0353104.pth\" to /root/.cache/torch/hub/checkpoints/mobilenet_v2-b0353104.pth\n",
            "100%|██████████| 13.6M/13.6M [00:00<00:00, 102MB/s] \n"
          ]
        },
        {
          "output_type": "stream",
          "name": "stdout",
          "text": [
            "Epoch [1/20], Loss: 0.5238, Accuracy: 86.78%, LR: 0.001000\n",
            "Validation Accuracy: 97.97%\n",
            "BEST EPOCH: 0, ACCURACY: 97.97%\n",
            "Epoch [2/20], Loss: 0.0834, Accuracy: 97.55%, LR: 0.001000\n",
            "Validation Accuracy: 98.61%\n",
            "BEST EPOCH: 1, ACCURACY: 98.61%\n",
            "Epoch [3/20], Loss: 0.0411, Accuracy: 98.88%, LR: 0.001000\n",
            "Validation Accuracy: 97.35%\n",
            "BEST EPOCH: 1, ACCURACY: 98.61%\n",
            "Epoch [4/20], Loss: 0.0632, Accuracy: 98.20%, LR: 0.000100\n",
            "Validation Accuracy: 98.93%\n",
            "BEST EPOCH: 3, ACCURACY: 98.93%\n",
            "Epoch [5/20], Loss: 0.0074, Accuracy: 99.82%, LR: 0.000100\n",
            "Validation Accuracy: 99.80%\n",
            "BEST EPOCH: 4, ACCURACY: 99.80%\n",
            "Epoch [6/20], Loss: 0.0025, Accuracy: 99.95%, LR: 0.000100\n",
            "Validation Accuracy: 99.78%\n",
            "BEST EPOCH: 4, ACCURACY: 99.80%\n",
            "Epoch [7/20], Loss: 0.0012, Accuracy: 99.97%, LR: 0.000100\n",
            "Validation Accuracy: 99.90%\n",
            "BEST EPOCH: 6, ACCURACY: 99.90%\n",
            "Epoch [8/20], Loss: 0.0009, Accuracy: 99.98%, LR: 0.000010\n",
            "Validation Accuracy: 99.91%\n",
            "BEST EPOCH: 7, ACCURACY: 99.91%\n",
            "Epoch [9/20], Loss: 0.0008, Accuracy: 99.98%, LR: 0.000010\n",
            "Validation Accuracy: 99.82%\n",
            "BEST EPOCH: 7, ACCURACY: 99.91%\n",
            "Epoch [10/20], Loss: 0.0018, Accuracy: 99.99%, LR: 0.000010\n",
            "Validation Accuracy: 99.89%\n",
            "BEST EPOCH: 7, ACCURACY: 99.91%\n",
            "Epoch [11/20], Loss: 0.0008, Accuracy: 99.99%, LR: 0.000010\n",
            "Validation Accuracy: 99.90%\n",
            "BEST EPOCH: 7, ACCURACY: 99.91%\n",
            "Epoch [12/20], Loss: 0.0008, Accuracy: 99.98%, LR: 0.000001\n",
            "Validation Accuracy: 99.94%\n",
            "BEST EPOCH: 11, ACCURACY: 99.94%\n",
            "Epoch [13/20], Loss: 0.0005, Accuracy: 99.99%, LR: 0.000001\n",
            "Validation Accuracy: 99.91%\n",
            "BEST EPOCH: 11, ACCURACY: 99.94%\n",
            "Epoch [14/20], Loss: 0.0055, Accuracy: 99.99%, LR: 0.000001\n",
            "Validation Accuracy: 99.94%\n",
            "BEST EPOCH: 11, ACCURACY: 99.94%\n",
            "Epoch [15/20], Loss: 0.0007, Accuracy: 99.99%, LR: 0.000001\n",
            "Validation Accuracy: 99.94%\n",
            "BEST EPOCH: 11, ACCURACY: 99.94%\n",
            "Epoch [16/20], Loss: 0.0009, Accuracy: 99.99%, LR: 0.000000\n",
            "Validation Accuracy: 99.91%\n",
            "BEST EPOCH: 11, ACCURACY: 99.94%\n",
            "Epoch [17/20], Loss: 0.0008, Accuracy: 99.99%, LR: 0.000000\n",
            "Validation Accuracy: 99.91%\n",
            "BEST EPOCH: 11, ACCURACY: 99.94%\n",
            "Epoch [18/20], Loss: 0.0005, Accuracy: 99.99%, LR: 0.000000\n",
            "Validation Accuracy: 99.92%\n",
            "BEST EPOCH: 11, ACCURACY: 99.94%\n",
            "Epoch [19/20], Loss: 0.0004, Accuracy: 99.99%, LR: 0.000000\n",
            "Validation Accuracy: 99.92%\n",
            "BEST EPOCH: 11, ACCURACY: 99.94%\n",
            "Epoch [20/20], Loss: 0.0005, Accuracy: 100.00%, LR: 0.000000\n",
            "Validation Accuracy: 99.92%\n",
            "BEST EPOCH: 11, ACCURACY: 99.94%\n"
          ]
        }
      ],
      "source": [
        "from torchvision.models import mobilenet_v2, MobileNet_V2_Weights\n",
        "\n",
        "if pretrained:  # ImageNet pretrained\n",
        "    model = mobilenet_v2(weights=MobileNet_V2_Weights.IMAGENET1K_V1)\n",
        "else:\n",
        "    model = mobilenet_v2(weights=None)\n",
        "\n",
        "criterion = nn.CrossEntropyLoss()\n",
        "optimizer = optim.Adam(model.parameters(), lr=0.001)\n",
        "scheduler = lr_scheduler.StepLR(optimizer, step_size=4, gamma=0.1)\n",
        "\n",
        "train_model(model, train_loader, val_loader, criterion, optimizer, scheduler, epochs=20, save_dir=f'MobileNetV2/{mode}')"
      ]
    },
    {
      "cell_type": "code",
      "source": [
        "from torchvision.models import densenet121, DenseNet121_Weights\n",
        "\n",
        "if pretrained:  # ImageNet pretrained\n",
        "    model = densenet121(weights=DenseNet121_Weights.IMAGENET1K_V1)\n",
        "else:\n",
        "    model = densenet121(weights=None)\n",
        "\n",
        "criterion = nn.CrossEntropyLoss()\n",
        "optimizer = optim.Adam(model.parameters(), lr=0.001)\n",
        "scheduler = lr_scheduler.StepLR(optimizer, step_size=4, gamma=0.1)\n",
        "\n",
        "train_model(model, train_loader, val_loader, criterion, optimizer, scheduler, epochs=20, save_dir=f'DenseNet121/{mode}')"
      ],
      "metadata": {
        "colab": {
          "base_uri": "https://localhost:8080/"
        },
        "id": "VILtTWFVco8T",
        "outputId": "976c5fa3-bb83-4a3c-b016-03a21c8691db"
      },
      "execution_count": 22,
      "outputs": [
        {
          "output_type": "stream",
          "name": "stderr",
          "text": [
            "Downloading: \"https://download.pytorch.org/models/densenet121-a639ec97.pth\" to /root/.cache/torch/hub/checkpoints/densenet121-a639ec97.pth\n",
            "100%|██████████| 30.8M/30.8M [00:00<00:00, 88.9MB/s]\n"
          ]
        },
        {
          "output_type": "stream",
          "name": "stdout",
          "text": [
            "Epoch [1/20], Loss: 0.3508, Accuracy: 92.13%, LR: 0.001000\n",
            "Validation Accuracy: 96.34%\n",
            "BEST EPOCH: 0, ACCURACY: 96.34%\n",
            "Epoch [2/20], Loss: 0.0556, Accuracy: 98.47%, LR: 0.001000\n",
            "Validation Accuracy: 98.18%\n",
            "BEST EPOCH: 1, ACCURACY: 98.18%\n",
            "Epoch [3/20], Loss: 0.0278, Accuracy: 99.29%, LR: 0.001000\n",
            "Validation Accuracy: 99.43%\n",
            "BEST EPOCH: 2, ACCURACY: 99.43%\n",
            "Epoch [4/20], Loss: 0.0498, Accuracy: 98.66%, LR: 0.000100\n",
            "Validation Accuracy: 97.78%\n",
            "BEST EPOCH: 2, ACCURACY: 99.43%\n",
            "Epoch [5/20], Loss: 0.0060, Accuracy: 99.84%, LR: 0.000100\n",
            "Validation Accuracy: 99.89%\n",
            "BEST EPOCH: 4, ACCURACY: 99.89%\n",
            "Epoch [6/20], Loss: 0.0013, Accuracy: 99.97%, LR: 0.000100\n",
            "Validation Accuracy: 99.87%\n",
            "BEST EPOCH: 4, ACCURACY: 99.89%\n",
            "Epoch [7/20], Loss: 0.0007, Accuracy: 99.99%, LR: 0.000100\n",
            "Validation Accuracy: 99.91%\n",
            "BEST EPOCH: 6, ACCURACY: 99.91%\n",
            "Epoch [8/20], Loss: 0.0005, Accuracy: 99.99%, LR: 0.000010\n",
            "Validation Accuracy: 99.89%\n",
            "BEST EPOCH: 6, ACCURACY: 99.91%\n",
            "Epoch [9/20], Loss: 0.0003, Accuracy: 100.00%, LR: 0.000010\n",
            "Validation Accuracy: 99.89%\n",
            "BEST EPOCH: 6, ACCURACY: 99.91%\n",
            "Epoch [10/20], Loss: 0.0004, Accuracy: 99.99%, LR: 0.000010\n",
            "Validation Accuracy: 99.91%\n",
            "BEST EPOCH: 6, ACCURACY: 99.91%\n",
            "Epoch [11/20], Loss: 0.0003, Accuracy: 100.00%, LR: 0.000010\n",
            "Validation Accuracy: 99.96%\n",
            "BEST EPOCH: 10, ACCURACY: 99.96%\n",
            "Epoch [12/20], Loss: 0.0003, Accuracy: 100.00%, LR: 0.000001\n",
            "Validation Accuracy: 99.91%\n",
            "BEST EPOCH: 10, ACCURACY: 99.96%\n",
            "Epoch [13/20], Loss: 0.0002, Accuracy: 100.00%, LR: 0.000001\n",
            "Validation Accuracy: 99.92%\n",
            "BEST EPOCH: 10, ACCURACY: 99.96%\n",
            "Epoch [14/20], Loss: 0.0002, Accuracy: 100.00%, LR: 0.000001\n",
            "Validation Accuracy: 99.94%\n",
            "BEST EPOCH: 10, ACCURACY: 99.96%\n",
            "Epoch [15/20], Loss: 0.0015, Accuracy: 99.99%, LR: 0.000001\n",
            "Validation Accuracy: 99.90%\n",
            "BEST EPOCH: 10, ACCURACY: 99.96%\n",
            "Epoch [16/20], Loss: 0.0002, Accuracy: 100.00%, LR: 0.000000\n",
            "Validation Accuracy: 99.90%\n",
            "BEST EPOCH: 10, ACCURACY: 99.96%\n",
            "Epoch [17/20], Loss: 0.0002, Accuracy: 100.00%, LR: 0.000000\n",
            "Validation Accuracy: 99.91%\n",
            "BEST EPOCH: 10, ACCURACY: 99.96%\n",
            "Epoch [18/20], Loss: 0.0003, Accuracy: 99.99%, LR: 0.000000\n",
            "Validation Accuracy: 99.91%\n",
            "BEST EPOCH: 10, ACCURACY: 99.96%\n",
            "Epoch [19/20], Loss: 0.0002, Accuracy: 100.00%, LR: 0.000000\n",
            "Validation Accuracy: 99.94%\n",
            "BEST EPOCH: 10, ACCURACY: 99.96%\n",
            "Epoch [20/20], Loss: 0.0003, Accuracy: 100.00%, LR: 0.000000\n",
            "Validation Accuracy: 99.94%\n",
            "BEST EPOCH: 10, ACCURACY: 99.96%\n"
          ]
        }
      ]
    }
  ],
  "metadata": {
    "accelerator": "GPU",
    "colab": {
      "gpuType": "T4",
      "provenance": []
    },
    "kernelspec": {
      "display_name": "Python 3",
      "name": "python3"
    },
    "language_info": {
      "codemirror_mode": {
        "name": "ipython",
        "version": 3
      },
      "file_extension": ".py",
      "mimetype": "text/x-python",
      "name": "python",
      "nbconvert_exporter": "python",
      "pygments_lexer": "ipython3",
      "version": "3.13.0"
    }
  },
  "nbformat": 4,
  "nbformat_minor": 0
}